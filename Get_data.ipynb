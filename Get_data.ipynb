{
 "cells": [
  {
   "cell_type": "markdown",
   "metadata": {},
   "source": [
    "# Notebook to download data\n",
    "\n",
    "This notebook imports data for COVID related analysis from a number of online sources."
   ]
  },
  {
   "cell_type": "markdown",
   "metadata": {},
   "source": [
    "First of all, we need to import a few useful libraries."
   ]
  },
  {
   "cell_type": "code",
   "execution_count": 1,
   "metadata": {},
   "outputs": [],
   "source": [
    "import pandas as pd\n",
    "import numpy as np\n",
    "import os\n",
    "from pandasdmx import Request \n",
    "import eurostat\n",
    "from concurrent.futures import ThreadPoolExecutor\n",
    "import time\n",
    "from datetime import datetime"
   ]
  },
  {
   "cell_type": "markdown",
   "metadata": {},
   "source": [
    "Make sure to have all packages. If not, type \"pip install --namepackage--\" in the console or in the terminal. We can now start to get the data. "
   ]
  },
  {
   "cell_type": "markdown",
   "metadata": {},
   "source": [
    "Define function to get the downloaded data in empty lists."
   ]
  },
  {
   "cell_type": "code",
   "execution_count": 2,
   "metadata": {},
   "outputs": [],
   "source": [
    "start_time = time.time()\n",
    "\n",
    "def data(url, container):\n",
    "    ind = 0\n",
    "    for i in url:\n",
    "        if ind <= len(url):\n",
    "            container.append([url[ind][0],pd.read_csv(url[ind][1], index_col = 0, parse_dates = [0])])\n",
    "        ind += 1"
   ]
  },
  {
   "cell_type": "markdown",
   "metadata": {},
   "source": [
    "## Data From [World Population Prospects](https://population.un.org/wpp/Download/Standard/CSV/) and [Johns Hopkins](https://github.com/CSSEGISandData/COVID-19/tree/master/csse_covid_19_data/csse_covid_19_time_series)\n",
    "\n",
    "John Hopkins provides daily data on **confirmed cases**, **deaths** and **recovered** for many countries in the world. Data can be freely accessed through GitHub. We can also get data from the UN."
   ]
  },
  {
   "cell_type": "code",
   "execution_count": 3,
   "metadata": {},
   "outputs": [],
   "source": [
    "url_WPP = [['WPP_tot_pop', 'https://population.un.org/wpp/Download/Files/1_Indicators%20(Standard)/CSV_FILES/WPP2019_TotalPopulationBySex.csv'],\n",
    "          ['WPP_pop_age_sec', 'https://population.un.org/wpp/Download/Files/1_Indicators%20(Standard)/CSV_FILES/WPP2019_PopulationByAgeSex_Medium.csv'],\n",
    "          ['WPP_fertility', 'https://population.un.org/wpp/Download/Files/1_Indicators%20(Standard)/CSV_FILES/WPP2019_Fertility_by_Age.csv']]\n",
    "\n",
    "url_JH = [['JH_confirmed', 'https://raw.githubusercontent.com/CSSEGISandData/COVID-19/master/csse_covid_19_data/csse_covid_19_time_series/time_series_covid19_confirmed_global.csv'],\n",
    "            ['JH_death', 'https://raw.githubusercontent.com/CSSEGISandData/COVID-19/master/csse_covid_19_data/csse_covid_19_time_series/time_series_covid19_deaths_global.csv'],\n",
    "            ['JH_recovered', 'https://raw.githubusercontent.com/CSSEGISandData/COVID-19/master/csse_covid_19_data/csse_covid_19_time_series/time_series_covid19_recovered_global.csv']]\n"
   ]
  },
  {
   "cell_type": "markdown",
   "metadata": {},
   "source": [
    "## Data From [Eurostat](https://ec.europa.eu/eurostat/web/population-demography-migration-projections/data/database)\n",
    "\n",
    "The library Eurostat allows to get demographics data in one line of code. We download data about population as well as national accounts. Data need to be cleaned for later usage."
   ]
  },
  {
   "cell_type": "code",
   "execution_count": 4,
   "metadata": {},
   "outputs": [],
   "source": [
    "def EU_stat(url, container):\n",
    "    ind = 0\n",
    "    for i in url:\n",
    "        if ind <= len(url):\n",
    "            container.append([url[ind][0], eurostat.get_data_df(url[ind][1])])\n",
    "        ind += 1"
   ]
  },
  {
   "cell_type": "markdown",
   "metadata": {},
   "source": [
    "Define the variables according to their codes on eurostat."
   ]
  },
  {
   "cell_type": "code",
   "execution_count": 5,
   "metadata": {},
   "outputs": [],
   "source": [
    "data_eurostat = [['EU_pop', 'demo_r_gind3'], ['EU_gdp', 'nama_10_gdp'], ['EU_cons', 'nama_10_fcs'], ['EU_trade', 'nama_10_exi'], ['EU_short_rate', 'irt_st_a'],\n",
    "                ['EU_long_rate', 'irt_lt_gby10_a'], ['EU_unemp', 'une_rt_a'], ['EU_inv', 'nama_10_an6']]"
   ]
  },
  {
   "cell_type": "markdown",
   "metadata": {},
   "source": [
    "Create empty containers and run the functions"
   ]
  },
  {
   "cell_type": "code",
   "execution_count": 6,
   "metadata": {},
   "outputs": [],
   "source": [
    "JH = []\n",
    "WPP = []\n",
    "EU = []\n",
    "\n",
    "with ThreadPoolExecutor(max_workers = 3) as e:\n",
    "    e.submit(data(url_JH, JH))\n",
    "    e.submit(data(url_WPP, WPP))\n",
    "    e.submit(EU_stat(data_eurostat, EU))"
   ]
  },
  {
   "cell_type": "markdown",
   "metadata": {},
   "source": [
    "Reshape JH data from wide to long."
   ]
  },
  {
   "cell_type": "code",
   "execution_count": 8,
   "metadata": {},
   "outputs": [],
   "source": [
    "JH_reshaped = []\n",
    "\n",
    "for j in range(len(JH)):\n",
    "    \n",
    "    # Get and clean an entry of the JH list\n",
    "    tmp = pd.DataFrame(JH[j][1])\n",
    "    tmp = tmp.drop(['Lat', 'Long'], axis=1)\n",
    "\n",
    "    # Rename columns\n",
    "    tmp.columns = tmp.columns.str.replace('/','')\n",
    "    new_names = [(i,'Date' + i) for i in tmp.iloc[:, 1:].columns.values]\n",
    "    tmp.rename(columns = dict(new_names), inplace=True)\n",
    "\n",
    "    # Rename rows\n",
    "    tmp.index = pd.Series(tmp.index).replace(np.nan, 'Unique')\n",
    "\n",
    "    # Create a new ID = row name + first column\n",
    "    tmp['idx'] = tmp.index\n",
    "    tmp = tmp.set_index(['CountryRegion', 'idx'])\n",
    "    tmp['idx'] = tmp.index\n",
    "    tmp = tmp.reset_index(drop=True)\n",
    "\n",
    "    # Reshape wide to long\n",
    "    tmp = pd.wide_to_long(tmp, [\"Date\"], i=\"idx\", j=\"date\")\n",
    "    tmp = tmp.rename(columns = {'Date':'occurrences'})\n",
    "\n",
    "    # Clean index\n",
    "    cou = []\n",
    "    date = []\n",
    "    for k in range(len(tmp.index)):\n",
    "        cou.append(list(tmp.index[k])[0])\n",
    "        date.append(list(tmp.index[k])[1])\n",
    "\n",
    "    # Finalize dataset\n",
    "    tmp['country'] = cou    \n",
    "    tmp['date'] = [str(i)+'20' for i in date]\n",
    "    tmp['date'] = pd.to_datetime(tmp['date'], format='%m%d%Y', errors='coerce')\n",
    "    tmp = tmp.reset_index(drop=True)\n",
    "    tmp = tmp[[\"country\", \"date\", \"occurrences\"]]\n",
    "\n",
    "    # Store output in a new list\n",
    "    JH_reshaped.append([JH[j][0], tmp])"
   ]
  },
  {
   "cell_type": "markdown",
   "metadata": {},
   "source": [
    "## Save all data\n",
    "\n",
    "Run the lines below **only** if you need to save data locally. The default path of the function is your current working directory. If another path is specified, the function will create the folders in that path if they do not already exist."
   ]
  },
  {
   "cell_type": "code",
   "execution_count": 12,
   "metadata": {},
   "outputs": [],
   "source": [
    "def store_data(path = os.getcwd(), JH_data = True, WPP_data = True, EU_data = True):\n",
    "    os.makedirs(path, exist_ok = True)\n",
    "    if JH_data:\n",
    "        ind = 0\n",
    "        for i in JH:\n",
    "            JH_reshaped[ind][1].to_csv(path + JH_reshaped[ind][0] + '.csv', index = False)\n",
    "            ind += 1\n",
    "    if WPP_data:\n",
    "        ind = 0\n",
    "        for i in WPP:\n",
    "            WPP[ind][1].to_csv(path + WPP[ind][0] + '.csv', index = False)\n",
    "            ind += 1\n",
    "    if EU_data:\n",
    "        ind = 0\n",
    "        for i in EU:\n",
    "            EU[ind][1].to_csv(path + EU[ind][0] + '.csv', index = False)\n",
    "            ind += 1"
   ]
  },
  {
   "cell_type": "markdown",
   "metadata": {},
   "source": [
    "Save the data in a folder called *files* inside your current working directory."
   ]
  },
  {
   "cell_type": "code",
   "execution_count": 13,
   "metadata": {},
   "outputs": [
    {
     "name": "stdout",
     "output_type": "stream",
     "text": [
      "Total time: 269.9183180332184\n"
     ]
    }
   ],
   "source": [
    "store_data(os.getcwd() + \"/files/\")\n",
    "end_time = time.time()\n",
    "print(f\"Total time: {end_time - start_time}\")"
   ]
  }
 ],
 "metadata": {
  "kernelspec": {
   "display_name": "Python 3",
   "language": "python",
   "name": "python3"
  },
  "language_info": {
   "codemirror_mode": {
    "name": "ipython",
    "version": 3
   },
   "file_extension": ".py",
   "mimetype": "text/x-python",
   "name": "python",
   "nbconvert_exporter": "python",
   "pygments_lexer": "ipython3",
   "version": "3.8.2"
  }
 },
 "nbformat": 4,
 "nbformat_minor": 4
}
